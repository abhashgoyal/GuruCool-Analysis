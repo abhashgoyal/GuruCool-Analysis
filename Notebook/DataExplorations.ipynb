{
 "cells": [
  {
   "cell_type": "code",
   "execution_count": 3,
   "metadata": {},
   "outputs": [],
   "source": [
    "import pandas as pd\n",
    "import numpy as np\n",
    "import matplotlib.pyplot as plt\n",
    "import seaborn as sns\n",
    "from datetime import datetime\n"
   ]
  },
  {
   "cell_type": "markdown",
   "metadata": {},
   "source": [
    "# Task 1  Data Exploration"
   ]
  },
  {
   "cell_type": "code",
   "execution_count": 4,
   "metadata": {},
   "outputs": [
    {
     "data": {
      "text/html": [
       "<div>\n",
       "<style scoped>\n",
       "    .dataframe tbody tr th:only-of-type {\n",
       "        vertical-align: middle;\n",
       "    }\n",
       "\n",
       "    .dataframe tbody tr th {\n",
       "        vertical-align: top;\n",
       "    }\n",
       "\n",
       "    .dataframe thead th {\n",
       "        text-align: right;\n",
       "    }\n",
       "</style>\n",
       "<table border=\"1\" class=\"dataframe\">\n",
       "  <thead>\n",
       "    <tr style=\"text-align: right;\">\n",
       "      <th></th>\n",
       "      <th>_id</th>\n",
       "      <th>user</th>\n",
       "      <th>chatStatus</th>\n",
       "      <th>guru</th>\n",
       "      <th>guruName</th>\n",
       "      <th>gid</th>\n",
       "      <th>uid</th>\n",
       "      <th>consultationType</th>\n",
       "      <th>website</th>\n",
       "      <th>refundStatus</th>\n",
       "      <th>...</th>\n",
       "      <th>feedback</th>\n",
       "      <th>hideHistory</th>\n",
       "      <th>cardPosition</th>\n",
       "      <th>Remedies</th>\n",
       "      <th>offer</th>\n",
       "      <th>refunds[0]</th>\n",
       "      <th>source</th>\n",
       "      <th>callSeconds</th>\n",
       "      <th>complementaryCallOrganiser</th>\n",
       "      <th>disconnectedBy</th>\n",
       "    </tr>\n",
       "  </thead>\n",
       "  <tbody>\n",
       "    <tr>\n",
       "      <th>0</th>\n",
       "      <td>656922f2919324acb6e87139</td>\n",
       "      <td>65691b0c919324acb6e7e046</td>\n",
       "      <td>incomplete</td>\n",
       "      <td>65054786f5f203225bfcdd0d</td>\n",
       "      <td>Astro  Sanjeev</td>\n",
       "      <td>95</td>\n",
       "      <td>30129</td>\n",
       "      <td>Chat</td>\n",
       "      <td>gurucool</td>\n",
       "      <td>no-refund</td>\n",
       "      <td>...</td>\n",
       "      <td>NaN</td>\n",
       "      <td>NaN</td>\n",
       "      <td>NaN</td>\n",
       "      <td>NaN</td>\n",
       "      <td>NaN</td>\n",
       "      <td>NaN</td>\n",
       "      <td>NaN</td>\n",
       "      <td>NaN</td>\n",
       "      <td>NaN</td>\n",
       "      <td>NaN</td>\n",
       "    </tr>\n",
       "    <tr>\n",
       "      <th>1</th>\n",
       "      <td>65692413919324acb6e87441</td>\n",
       "      <td>65691b0c919324acb6e7e046</td>\n",
       "      <td>incomplete</td>\n",
       "      <td>65054786f5f203225bfcdd0d</td>\n",
       "      <td>Astro  Sanjeev</td>\n",
       "      <td>95</td>\n",
       "      <td>30129</td>\n",
       "      <td>Chat</td>\n",
       "      <td>gurucool</td>\n",
       "      <td>no-refund</td>\n",
       "      <td>...</td>\n",
       "      <td>NaN</td>\n",
       "      <td>NaN</td>\n",
       "      <td>NaN</td>\n",
       "      <td>NaN</td>\n",
       "      <td>NaN</td>\n",
       "      <td>NaN</td>\n",
       "      <td>NaN</td>\n",
       "      <td>NaN</td>\n",
       "      <td>NaN</td>\n",
       "      <td>NaN</td>\n",
       "    </tr>\n",
       "    <tr>\n",
       "      <th>2</th>\n",
       "      <td>65692612919324acb6e87738</td>\n",
       "      <td>656528dcee2b1ab52f019119</td>\n",
       "      <td>incomplete</td>\n",
       "      <td>65054786f5f203225bfcdd0d</td>\n",
       "      <td>Astro  Sanjeev</td>\n",
       "      <td>95</td>\n",
       "      <td>28743</td>\n",
       "      <td>Chat</td>\n",
       "      <td>gurucool</td>\n",
       "      <td>no-refund</td>\n",
       "      <td>...</td>\n",
       "      <td>NaN</td>\n",
       "      <td>NaN</td>\n",
       "      <td>NaN</td>\n",
       "      <td>NaN</td>\n",
       "      <td>NaN</td>\n",
       "      <td>NaN</td>\n",
       "      <td>NaN</td>\n",
       "      <td>NaN</td>\n",
       "      <td>NaN</td>\n",
       "      <td>NaN</td>\n",
       "    </tr>\n",
       "    <tr>\n",
       "      <th>3</th>\n",
       "      <td>656927c9919324acb6e87b2f</td>\n",
       "      <td>6568ee9f919324acb6e77e53</td>\n",
       "      <td>incomplete</td>\n",
       "      <td>65054786f5f203225bfcdd0d</td>\n",
       "      <td>Astro  Sanjeev</td>\n",
       "      <td>95</td>\n",
       "      <td>30120</td>\n",
       "      <td>Chat</td>\n",
       "      <td>gurucool</td>\n",
       "      <td>no-refund</td>\n",
       "      <td>...</td>\n",
       "      <td>NaN</td>\n",
       "      <td>NaN</td>\n",
       "      <td>NaN</td>\n",
       "      <td>NaN</td>\n",
       "      <td>NaN</td>\n",
       "      <td>NaN</td>\n",
       "      <td>NaN</td>\n",
       "      <td>NaN</td>\n",
       "      <td>NaN</td>\n",
       "      <td>NaN</td>\n",
       "    </tr>\n",
       "    <tr>\n",
       "      <th>4</th>\n",
       "      <td>65692d75919324acb6e882dd</td>\n",
       "      <td>65629cfc4232eb704d712d98</td>\n",
       "      <td>failed</td>\n",
       "      <td>65054786f5f203225bfcdd0d</td>\n",
       "      <td>Astro  Sanjeev</td>\n",
       "      <td>95</td>\n",
       "      <td>27790</td>\n",
       "      <td>Chat</td>\n",
       "      <td>gurucool</td>\n",
       "      <td>no-refund</td>\n",
       "      <td>...</td>\n",
       "      <td>NaN</td>\n",
       "      <td>NaN</td>\n",
       "      <td>NaN</td>\n",
       "      <td>NaN</td>\n",
       "      <td>NaN</td>\n",
       "      <td>NaN</td>\n",
       "      <td>NaN</td>\n",
       "      <td>NaN</td>\n",
       "      <td>NaN</td>\n",
       "      <td>NaN</td>\n",
       "    </tr>\n",
       "  </tbody>\n",
       "</table>\n",
       "<p>5 rows × 45 columns</p>\n",
       "</div>"
      ],
      "text/plain": [
       "                        _id                      user  chatStatus  \\\n",
       "0  656922f2919324acb6e87139  65691b0c919324acb6e7e046  incomplete   \n",
       "1  65692413919324acb6e87441  65691b0c919324acb6e7e046  incomplete   \n",
       "2  65692612919324acb6e87738  656528dcee2b1ab52f019119  incomplete   \n",
       "3  656927c9919324acb6e87b2f  6568ee9f919324acb6e77e53  incomplete   \n",
       "4  65692d75919324acb6e882dd  65629cfc4232eb704d712d98      failed   \n",
       "\n",
       "                       guru        guruName  gid    uid consultationType  \\\n",
       "0  65054786f5f203225bfcdd0d  Astro  Sanjeev   95  30129             Chat   \n",
       "1  65054786f5f203225bfcdd0d  Astro  Sanjeev   95  30129             Chat   \n",
       "2  65054786f5f203225bfcdd0d  Astro  Sanjeev   95  28743             Chat   \n",
       "3  65054786f5f203225bfcdd0d  Astro  Sanjeev   95  30120             Chat   \n",
       "4  65054786f5f203225bfcdd0d  Astro  Sanjeev   95  27790             Chat   \n",
       "\n",
       "    website refundStatus  ...  feedback  hideHistory  cardPosition  Remedies  \\\n",
       "0  gurucool    no-refund  ...       NaN          NaN           NaN       NaN   \n",
       "1  gurucool    no-refund  ...       NaN          NaN           NaN       NaN   \n",
       "2  gurucool    no-refund  ...       NaN          NaN           NaN       NaN   \n",
       "3  gurucool    no-refund  ...       NaN          NaN           NaN       NaN   \n",
       "4  gurucool    no-refund  ...       NaN          NaN           NaN       NaN   \n",
       "\n",
       "   offer refunds[0] source  callSeconds complementaryCallOrganiser  \\\n",
       "0    NaN        NaN    NaN          NaN                        NaN   \n",
       "1    NaN        NaN    NaN          NaN                        NaN   \n",
       "2    NaN        NaN    NaN          NaN                        NaN   \n",
       "3    NaN        NaN    NaN          NaN                        NaN   \n",
       "4    NaN        NaN    NaN          NaN                        NaN   \n",
       "\n",
       "  disconnectedBy  \n",
       "0            NaN  \n",
       "1            NaN  \n",
       "2            NaN  \n",
       "3            NaN  \n",
       "4            NaN  \n",
       "\n",
       "[5 rows x 45 columns]"
      ]
     },
     "execution_count": 4,
     "metadata": {},
     "output_type": "execute_result"
    }
   ],
   "source": [
    "data = pd.read_csv('Raw_data.csv',low_memory=False)\n",
    "\n",
    "data.head()\n",
    "\n"
   ]
  },
  {
   "cell_type": "code",
   "execution_count": 5,
   "metadata": {},
   "outputs": [
    {
     "name": "stdout",
     "output_type": "stream",
     "text": [
      "<class 'pandas.core.frame.DataFrame'>\n",
      "RangeIndex: 28027 entries, 0 to 28026\n",
      "Data columns (total 45 columns):\n",
      " #   Column                      Non-Null Count  Dtype  \n",
      "---  ------                      --------------  -----  \n",
      " 0   _id                         28027 non-null  object \n",
      " 1   user                        28027 non-null  object \n",
      " 2   chatStatus                  19515 non-null  object \n",
      " 3   guru                        28027 non-null  object \n",
      " 4   guruName                    28027 non-null  object \n",
      " 5   gid                         28027 non-null  int64  \n",
      " 6   uid                         28027 non-null  int64  \n",
      " 7   consultationType            28027 non-null  object \n",
      " 8   website                     28027 non-null  object \n",
      " 9   refundStatus                28027 non-null  object \n",
      " 10  isWhiteListUser             28027 non-null  bool   \n",
      " 11  chatSeconds                 19514 non-null  float64\n",
      " 12  queue                       28027 non-null  bool   \n",
      " 13  freeCall                    28027 non-null  bool   \n",
      " 14  freeChat                    28027 non-null  bool   \n",
      " 15  createdAt                   28027 non-null  object \n",
      " 16  updatedAt                   28027 non-null  object \n",
      " 17  __v                         28027 non-null  int64  \n",
      " 18  statementEntryId            27876 non-null  object \n",
      " 19  chatStartTime               9330 non-null   object \n",
      " 20  chatEndTime                 13031 non-null  object \n",
      " 21  timeDuration                21398 non-null  float64\n",
      " 22  callChannel                 8508 non-null   object \n",
      " 23  callIvrType                 8362 non-null   object \n",
      " 24  callStatus                  8541 non-null   object \n",
      " 25  CallSid                     8365 non-null   object \n",
      " 26  amount                      9016 non-null   float64\n",
      " 27  astrologerCallStatus        16258 non-null  object \n",
      " 28  astrologerOnCallDuration    8365 non-null   float64\n",
      " 29  astrologersEarnings         9016 non-null   float64\n",
      " 30  netAmount                   9016 non-null   float64\n",
      " 31  region                      9019 non-null   object \n",
      " 32  userCallStatus              9345 non-null   object \n",
      " 33  userOnCallDuration          8365 non-null   float64\n",
      " 34  RecordingUrl                4325 non-null   object \n",
      " 35  feedback                    2616 non-null   object \n",
      " 36  hideHistory                 19338 non-null  object \n",
      " 37  cardPosition                710 non-null    object \n",
      " 38  Remedies                    102 non-null    object \n",
      " 39  offer                       18778 non-null  object \n",
      " 40  refunds[0]                  5 non-null      object \n",
      " 41  source                      16291 non-null  object \n",
      " 42  callSeconds                 2 non-null      float64\n",
      " 43  complementaryCallOrganiser  2 non-null      object \n",
      " 44  disconnectedBy              9 non-null      object \n",
      "dtypes: bool(4), float64(8), int64(3), object(30)\n",
      "memory usage: 8.9+ MB\n"
     ]
    }
   ],
   "source": [
    "data.info()\n"
   ]
  },
  {
   "cell_type": "code",
   "execution_count": 6,
   "metadata": {},
   "outputs": [
    {
     "data": {
      "text/html": [
       "<div>\n",
       "<style scoped>\n",
       "    .dataframe tbody tr th:only-of-type {\n",
       "        vertical-align: middle;\n",
       "    }\n",
       "\n",
       "    .dataframe tbody tr th {\n",
       "        vertical-align: top;\n",
       "    }\n",
       "\n",
       "    .dataframe thead th {\n",
       "        text-align: right;\n",
       "    }\n",
       "</style>\n",
       "<table border=\"1\" class=\"dataframe\">\n",
       "  <thead>\n",
       "    <tr style=\"text-align: right;\">\n",
       "      <th></th>\n",
       "      <th>gid</th>\n",
       "      <th>uid</th>\n",
       "      <th>chatSeconds</th>\n",
       "      <th>__v</th>\n",
       "      <th>timeDuration</th>\n",
       "      <th>amount</th>\n",
       "      <th>astrologerOnCallDuration</th>\n",
       "      <th>astrologersEarnings</th>\n",
       "      <th>netAmount</th>\n",
       "      <th>userOnCallDuration</th>\n",
       "      <th>callSeconds</th>\n",
       "    </tr>\n",
       "  </thead>\n",
       "  <tbody>\n",
       "    <tr>\n",
       "      <th>count</th>\n",
       "      <td>28027.000000</td>\n",
       "      <td>28027.000000</td>\n",
       "      <td>19514.000000</td>\n",
       "      <td>28027.000000</td>\n",
       "      <td>21398.000000</td>\n",
       "      <td>9016.000000</td>\n",
       "      <td>8365.000000</td>\n",
       "      <td>9016.000000</td>\n",
       "      <td>9016.000000</td>\n",
       "      <td>8365.000000</td>\n",
       "      <td>2.000000</td>\n",
       "    </tr>\n",
       "    <tr>\n",
       "      <th>mean</th>\n",
       "      <td>220.890498</td>\n",
       "      <td>34846.342812</td>\n",
       "      <td>349.158553</td>\n",
       "      <td>0.000178</td>\n",
       "      <td>1.977168</td>\n",
       "      <td>23.742890</td>\n",
       "      <td>128.791871</td>\n",
       "      <td>10.996736</td>\n",
       "      <td>23.734174</td>\n",
       "      <td>118.784818</td>\n",
       "      <td>33000.000000</td>\n",
       "    </tr>\n",
       "    <tr>\n",
       "      <th>std</th>\n",
       "      <td>86.575346</td>\n",
       "      <td>7812.317551</td>\n",
       "      <td>319.588213</td>\n",
       "      <td>0.013356</td>\n",
       "      <td>3.340467</td>\n",
       "      <td>87.134998</td>\n",
       "      <td>245.204088</td>\n",
       "      <td>42.141543</td>\n",
       "      <td>87.134775</td>\n",
       "      <td>244.536228</td>\n",
       "      <td>38183.766184</td>\n",
       "    </tr>\n",
       "    <tr>\n",
       "      <th>min</th>\n",
       "      <td>8.000000</td>\n",
       "      <td>1.000000</td>\n",
       "      <td>300.000000</td>\n",
       "      <td>0.000000</td>\n",
       "      <td>-0.166667</td>\n",
       "      <td>0.000000</td>\n",
       "      <td>0.000000</td>\n",
       "      <td>0.000000</td>\n",
       "      <td>0.000000</td>\n",
       "      <td>0.000000</td>\n",
       "      <td>6000.000000</td>\n",
       "    </tr>\n",
       "    <tr>\n",
       "      <th>25%</th>\n",
       "      <td>195.000000</td>\n",
       "      <td>31659.000000</td>\n",
       "      <td>300.000000</td>\n",
       "      <td>0.000000</td>\n",
       "      <td>0.000000</td>\n",
       "      <td>0.000000</td>\n",
       "      <td>0.000000</td>\n",
       "      <td>0.000000</td>\n",
       "      <td>0.000000</td>\n",
       "      <td>0.000000</td>\n",
       "      <td>19500.000000</td>\n",
       "    </tr>\n",
       "    <tr>\n",
       "      <th>50%</th>\n",
       "      <td>255.000000</td>\n",
       "      <td>36213.000000</td>\n",
       "      <td>300.000000</td>\n",
       "      <td>0.000000</td>\n",
       "      <td>0.100000</td>\n",
       "      <td>0.000000</td>\n",
       "      <td>34.000000</td>\n",
       "      <td>0.000000</td>\n",
       "      <td>0.000000</td>\n",
       "      <td>8.000000</td>\n",
       "      <td>33000.000000</td>\n",
       "    </tr>\n",
       "    <tr>\n",
       "      <th>75%</th>\n",
       "      <td>281.000000</td>\n",
       "      <td>40109.000000</td>\n",
       "      <td>300.000000</td>\n",
       "      <td>0.000000</td>\n",
       "      <td>4.356962</td>\n",
       "      <td>0.000000</td>\n",
       "      <td>189.000000</td>\n",
       "      <td>0.000000</td>\n",
       "      <td>0.000000</td>\n",
       "      <td>180.000000</td>\n",
       "      <td>46500.000000</td>\n",
       "    </tr>\n",
       "    <tr>\n",
       "      <th>max</th>\n",
       "      <td>325.000000</td>\n",
       "      <td>44005.000000</td>\n",
       "      <td>7980.000000</td>\n",
       "      <td>1.000000</td>\n",
       "      <td>67.000000</td>\n",
       "      <td>1800.000000</td>\n",
       "      <td>4029.000000</td>\n",
       "      <td>900.000000</td>\n",
       "      <td>1800.000000</td>\n",
       "      <td>4020.000000</td>\n",
       "      <td>60000.000000</td>\n",
       "    </tr>\n",
       "  </tbody>\n",
       "</table>\n",
       "</div>"
      ],
      "text/plain": [
       "                gid           uid   chatSeconds           __v  timeDuration  \\\n",
       "count  28027.000000  28027.000000  19514.000000  28027.000000  21398.000000   \n",
       "mean     220.890498  34846.342812    349.158553      0.000178      1.977168   \n",
       "std       86.575346   7812.317551    319.588213      0.013356      3.340467   \n",
       "min        8.000000      1.000000    300.000000      0.000000     -0.166667   \n",
       "25%      195.000000  31659.000000    300.000000      0.000000      0.000000   \n",
       "50%      255.000000  36213.000000    300.000000      0.000000      0.100000   \n",
       "75%      281.000000  40109.000000    300.000000      0.000000      4.356962   \n",
       "max      325.000000  44005.000000   7980.000000      1.000000     67.000000   \n",
       "\n",
       "            amount  astrologerOnCallDuration  astrologersEarnings  \\\n",
       "count  9016.000000               8365.000000          9016.000000   \n",
       "mean     23.742890                128.791871            10.996736   \n",
       "std      87.134998                245.204088            42.141543   \n",
       "min       0.000000                  0.000000             0.000000   \n",
       "25%       0.000000                  0.000000             0.000000   \n",
       "50%       0.000000                 34.000000             0.000000   \n",
       "75%       0.000000                189.000000             0.000000   \n",
       "max    1800.000000               4029.000000           900.000000   \n",
       "\n",
       "         netAmount  userOnCallDuration   callSeconds  \n",
       "count  9016.000000         8365.000000      2.000000  \n",
       "mean     23.734174          118.784818  33000.000000  \n",
       "std      87.134775          244.536228  38183.766184  \n",
       "min       0.000000            0.000000   6000.000000  \n",
       "25%       0.000000            0.000000  19500.000000  \n",
       "50%       0.000000            8.000000  33000.000000  \n",
       "75%       0.000000          180.000000  46500.000000  \n",
       "max    1800.000000         4020.000000  60000.000000  "
      ]
     },
     "execution_count": 6,
     "metadata": {},
     "output_type": "execute_result"
    }
   ],
   "source": [
    "data.describe()\n"
   ]
  },
  {
   "cell_type": "code",
   "execution_count": 7,
   "metadata": {},
   "outputs": [
    {
     "data": {
      "text/plain": [
       "_id                               0\n",
       "user                              0\n",
       "chatStatus                     8512\n",
       "guru                              0\n",
       "guruName                          0\n",
       "gid                               0\n",
       "uid                               0\n",
       "consultationType                  0\n",
       "website                           0\n",
       "refundStatus                      0\n",
       "isWhiteListUser                   0\n",
       "chatSeconds                    8513\n",
       "queue                             0\n",
       "freeCall                          0\n",
       "freeChat                          0\n",
       "createdAt                         0\n",
       "updatedAt                         0\n",
       "__v                               0\n",
       "statementEntryId                151\n",
       "chatStartTime                 18697\n",
       "chatEndTime                   14996\n",
       "timeDuration                   6629\n",
       "callChannel                   19519\n",
       "callIvrType                   19665\n",
       "callStatus                    19486\n",
       "CallSid                       19662\n",
       "amount                        19011\n",
       "astrologerCallStatus          11769\n",
       "astrologerOnCallDuration      19662\n",
       "astrologersEarnings           19011\n",
       "netAmount                     19011\n",
       "region                        19008\n",
       "userCallStatus                18682\n",
       "userOnCallDuration            19662\n",
       "RecordingUrl                  23702\n",
       "feedback                      25411\n",
       "hideHistory                    8689\n",
       "cardPosition                  27317\n",
       "Remedies                      27925\n",
       "offer                          9249\n",
       "refunds[0]                    28022\n",
       "source                        11736\n",
       "callSeconds                   28025\n",
       "complementaryCallOrganiser    28025\n",
       "disconnectedBy                28018\n",
       "dtype: int64"
      ]
     },
     "execution_count": 7,
     "metadata": {},
     "output_type": "execute_result"
    }
   ],
   "source": [
    "# Check for missing values in each column\n",
    "missing_data = data.isnull().sum()\n",
    "missing_data\n"
   ]
  },
  {
   "cell_type": "markdown",
   "metadata": {},
   "source": [
    "### Exploring Each Columns"
   ]
  },
  {
   "cell_type": "markdown",
   "metadata": {},
   "source": [
    "### `Chatstatus`"
   ]
  },
  {
   "cell_type": "code",
   "execution_count": 8,
   "metadata": {},
   "outputs": [
    {
     "data": {
      "text/plain": [
       "array(['incomplete', 'failed', nan, 'completed', 'pending', 'started'],\n",
       "      dtype=object)"
      ]
     },
     "execution_count": 8,
     "metadata": {},
     "output_type": "execute_result"
    }
   ],
   "source": [
    "data.chatStatus.unique()"
   ]
  },
  {
   "cell_type": "code",
   "execution_count": 9,
   "metadata": {},
   "outputs": [
    {
     "name": "stdout",
     "output_type": "stream",
     "text": [
      "Total number of records: 28027\n",
      "Number of missing values in chatStatus: 8512\n",
      "Percentage of missing values in chatStatus: 30.37%\n",
      "\n",
      "Detailed breakdown of chatStatus values:\n",
      "            Count  Percentage\n",
      "chatStatus                   \n",
      "NaN          8512   30.370714\n",
      "failed       7256   25.889321\n",
      "incomplete   6641   23.695008\n",
      "completed    5535   19.748814\n",
      "pending        48    0.171263\n",
      "started        35    0.124880\n"
     ]
    }
   ],
   "source": [
    "# Analyze missing data in chatStatus\n",
    "print(\"Total number of records:\", len(data))\n",
    "print(\"Number of missing values in chatStatus:\", data['chatStatus'].isnull().sum())\n",
    "print(\"Percentage of missing values in chatStatus: {:.2f}%\".format(data['chatStatus'].isnull().sum() / len(data) * 100))\n",
    "\n",
    "\n",
    "chat_status_counts = data['chatStatus'].value_counts(dropna=False)\n",
    "chat_status_percentages = data['chatStatus'].value_counts(dropna=False, normalize=True) * 100\n",
    "\n",
    "\n",
    "chat_status_analysis = pd.DataFrame({\n",
    "    'Count': chat_status_counts,\n",
    "    'Percentage': chat_status_percentages\n",
    "})\n",
    "\n",
    "print(\"\\nDetailed breakdown of chatStatus values:\")\n",
    "print(chat_status_analysis)\n"
   ]
  },
  {
   "cell_type": "markdown",
   "metadata": {},
   "source": [
    "The missing values in `chatStatus` are of Nan value which symbolises the status of the chat is not known\n",
    "\n",
    "Which Means it has 2 conditions --\n",
    "\n",
    "* The chat is not in the database\n",
    "* The chat is not known\n",
    "\n",
    "Since the chat is not in the database, we can replace the NaN with 'NOTKNOWN'\n"
   ]
  },
  {
   "cell_type": "code",
   "execution_count": 10,
   "metadata": {},
   "outputs": [],
   "source": [
    "# Replacing NaN values in chatStatus with 'NOTKNOWN'\n",
    "\n",
    "data['chatStatus'] = data['chatStatus'].fillna('NOTKNOWN')\n"
   ]
  },
  {
   "cell_type": "code",
   "execution_count": 11,
   "metadata": {},
   "outputs": [
    {
     "data": {
      "text/plain": [
       "array(['incomplete', 'failed', 'NOTKNOWN', 'completed', 'pending',\n",
       "       'started'], dtype=object)"
      ]
     },
     "execution_count": 11,
     "metadata": {},
     "output_type": "execute_result"
    }
   ],
   "source": [
    "data.chatStatus.unique()\n"
   ]
  },
  {
   "cell_type": "markdown",
   "metadata": {},
   "source": [
    "### Handling Missing Values in `chatSeconds`\n",
    "\n"
   ]
  },
  {
   "cell_type": "code",
   "execution_count": 12,
   "metadata": {},
   "outputs": [
    {
     "data": {
      "text/plain": [
       "array([ 300.,   nan,  420.,  360.,  600.,  660.,  480.,  540., 3840.,\n",
       "       7980., 7920.,  720., 1140., 1440., 1500.,  900., 3180., 3120.,\n",
       "       2580., 1080., 2880., 3540., 1020., 1260., 1380., 2400., 1680.,\n",
       "       1200.,  960.,  780., 2940., 1560.,  840., 1620., 1320., 2700.,\n",
       "       4080., 3300., 1920., 1860., 1740., 3660., 1980., 1800., 2040.,\n",
       "       2220., 2280., 4500., 4380., 2460., 7740., 7500., 3900., 6660.,\n",
       "       3000.])"
      ]
     },
     "execution_count": 12,
     "metadata": {},
     "output_type": "execute_result"
    }
   ],
   "source": [
    "data.chatSeconds.unique()\n"
   ]
  },
  {
   "cell_type": "code",
   "execution_count": null,
   "metadata": {},
   "outputs": [],
   "source": []
  },
  {
   "cell_type": "markdown",
   "metadata": {},
   "source": [
    "#### Undertsanding the patterns in rows with NaN chatSeconds"
   ]
  },
  {
   "cell_type": "code",
   "execution_count": null,
   "metadata": {},
   "outputs": [],
   "source": []
  },
  {
   "cell_type": "code",
   "execution_count": 13,
   "metadata": {},
   "outputs": [
    {
     "name": "stdout",
     "output_type": "stream",
     "text": [
      "Rows with NaN chatSeconds but valid start/end times:\n",
      "Empty DataFrame\n",
      "Columns: [chatStatus, chatStartTime, chatEndTime, timeDuration]\n",
      "Index: []\n"
     ]
    }
   ],
   "source": [
    "print(\"Rows with NaN chatSeconds but valid start/end times:\")\n",
    "mask = (data['chatSeconds'].isna() & \n",
    "        data['chatStartTime'].notna() & \n",
    "        data['chatEndTime'].notna())\n",
    "\n",
    "\n",
    "print(data[mask][['chatStatus', 'chatStartTime', 'chatEndTime', 'timeDuration']].head())\n",
    "\n"
   ]
  },
  {
   "cell_type": "markdown",
   "metadata": {},
   "source": [
    "### Analyzing relationship between chatStatus and chatSeconds\n",
    "\n",
    "##### Let's examine:\n",
    "* 1. Average chatSeconds for each chatStatus\n",
    "* 2. Distribution of chatSeconds across different chatStatus\n",
    "* 3. Presence of NaN values in chatSeconds for each chatStatus\n",
    "\n",
    "Since the chatSeconds has 8513 and chatstatus jad 8512 NAN Values, there could be a relationship between chatStatus and chatSeconds\n"
   ]
  },
  {
   "cell_type": "code",
   "execution_count": 14,
   "metadata": {},
   "outputs": [
    {
     "name": "stdout",
     "output_type": "stream",
     "text": [
      "Average chatSeconds by chatStatus:\n"
     ]
    },
    {
     "data": {
      "text/plain": [
       "chatStatus\n",
       "NOTKNOWN             NaN\n",
       "completed     339.837398\n",
       "failed        353.714680\n",
       "incomplete    352.356573\n",
       "pending       321.250000\n",
       "started       310.285714\n",
       "Name: chatSeconds, dtype: float64"
      ]
     },
     "execution_count": 14,
     "metadata": {},
     "output_type": "execute_result"
    }
   ],
   "source": [
    "# Calculating average chatSeconds for each chatStatus\n",
    "\n",
    "print(\"Average chatSeconds by chatStatus:\")\n",
    "avg_by_status = data.groupby('chatStatus')['chatSeconds'].mean()\n",
    "avg_by_status\n",
    "\n"
   ]
  },
  {
   "cell_type": "code",
   "execution_count": 15,
   "metadata": {},
   "outputs": [
    {
     "name": "stdout",
     "output_type": "stream",
     "text": [
      "\n",
      "Median chatSeconds by chatStatus:\n"
     ]
    },
    {
     "data": {
      "text/plain": [
       "chatStatus\n",
       "NOTKNOWN        NaN\n",
       "completed     300.0\n",
       "failed        300.0\n",
       "incomplete    300.0\n",
       "pending       300.0\n",
       "started       300.0\n",
       "Name: chatSeconds, dtype: float64"
      ]
     },
     "execution_count": 15,
     "metadata": {},
     "output_type": "execute_result"
    }
   ],
   "source": [
    "# Calculating  median chatSeconds for each chatStatus (less sensitive to outliers than mean)\n",
    "\n",
    "print(\"\\nMedian chatSeconds by chatStatus:\")\n",
    "\n",
    "median_by_status = data.groupby('chatStatus')['chatSeconds'].median()\n",
    "median_by_status\n",
    "\n"
   ]
  },
  {
   "cell_type": "code",
   "execution_count": 16,
   "metadata": {},
   "outputs": [
    {
     "name": "stdout",
     "output_type": "stream",
     "text": [
      "\n",
      "Count of records by chatStatus:\n"
     ]
    },
    {
     "data": {
      "text/plain": [
       "chatStatus\n",
       "NOTKNOWN      8512\n",
       "failed        7256\n",
       "incomplete    6641\n",
       "completed     5535\n",
       "pending         48\n",
       "started         35\n",
       "Name: count, dtype: int64"
      ]
     },
     "execution_count": 16,
     "metadata": {},
     "output_type": "execute_result"
    }
   ],
   "source": [
    "print(\"\\nCount of records by chatStatus:\")\n",
    "status_counts = data['chatStatus'].value_counts()\n",
    "status_counts\n"
   ]
  },
  {
   "cell_type": "code",
   "execution_count": 17,
   "metadata": {},
   "outputs": [
    {
     "name": "stdout",
     "output_type": "stream",
     "text": [
      "\n",
      "Percentage of NaN chatSeconds by chatStatus:\n"
     ]
    },
    {
     "data": {
      "text/plain": [
       "chatStatus\n",
       "NOTKNOWN      100.000000\n",
       "completed       0.000000\n",
       "failed          0.013782\n",
       "incomplete      0.000000\n",
       "pending         0.000000\n",
       "started         0.000000\n",
       "Name: chatSeconds, dtype: float64"
      ]
     },
     "execution_count": 17,
     "metadata": {},
     "output_type": "execute_result"
    }
   ],
   "source": [
    "# Calculating percentage of NaN chatSeconds for each chatStatus\n",
    "\n",
    "print(\"\\nPercentage of NaN chatSeconds by chatStatus:\")\n",
    "\n",
    "nan_pct_by_status = data.groupby('chatStatus')['chatSeconds'].apply(lambda x: x.isna().mean() * 100)\n",
    "nan_pct_by_status\n"
   ]
  },
  {
   "cell_type": "code",
   "execution_count": 18,
   "metadata": {},
   "outputs": [
    {
     "data": {
      "image/png": "[encoded data removed]",
      "text/plain": [
       "<Figure size 1200x600 with 1 Axes>"
      ]
     },
     "metadata": {},
     "output_type": "display_data"
    }
   ],
   "source": [
    "plt.figure(figsize=(12,6))\n",
    "avg_by_status.plot(kind='bar')\n",
    "plt.title('Average Chat Seconds by Status')\n",
    "plt.xlabel('Chat Status')\n",
    "plt.ylabel('Mean Chat Seconds')\n",
    "plt.xticks(rotation=45)\n",
    "plt.grid(True, alpha=0.3)\n",
    "plt.tight_layout()\n",
    "plt.show()"
   ]
  },
  {
   "cell_type": "markdown",
   "metadata": {},
   "source": [
    "#### Its clear from the above calculation on Avg, Mean & Count Percentage of NaN values in chatSeconds & ChatStatus,\n",
    "#### The chatStatus has a relationship with the chatSeconds   \n",
    "- Every NaN Value in chatSeconds has a chatStatus of 'NOTKNOWN'\n"
   ]
  },
  {
   "cell_type": "code",
   "execution_count": null,
   "metadata": {},
   "outputs": [],
   "source": []
  },
  {
   "cell_type": "code",
   "execution_count": 19,
   "metadata": {},
   "outputs": [],
   "source": [
    "# checking chatseconds for chatStatus NOTKNOWN\n",
    "\n",
    "notknown_mask = data['chatStatus'] == 'NOTKNOWN'\n",
    "total_notknown = notknown_mask.sum()\n",
    "\n",
    "\n",
    "\n"
   ]
  },
  {
   "cell_type": "code",
   "execution_count": 20,
   "metadata": {},
   "outputs": [
    {
     "name": "stdout",
     "output_type": "stream",
     "text": [
      "\n",
      "For chatStatus = NOTKNOWN (total rows: 8512):\n",
      "chatStartTime:\n",
      "Empty rows: 8512\n",
      "Percentage empty: 100.0%\n",
      "chatEndTime:\n",
      "Empty rows: 8512\n",
      "Percentage empty: 100.0%\n",
      "timeDuration:\n",
      "Empty rows: 146\n",
      "Percentage empty: 1.7%\n"
     ]
    }
   ],
   "source": [
    "empty_stats = {\n",
    "    'chatStartTime': data[notknown_mask]['chatStartTime'].isna().sum(),\n",
    "    'chatEndTime': data[notknown_mask]['chatEndTime'].isna().sum(),\n",
    "    'timeDuration': data[notknown_mask]['timeDuration'].isna().sum()\n",
    "}\n",
    "\n",
    "print(f\"\\nFor chatStatus = NOTKNOWN (total rows: {total_notknown}):\")\n",
    "for field, empty_count in empty_stats.items():\n",
    "    print(f\"{field}:\")\n",
    "    print(f\"Empty rows: {empty_count}\")\n",
    "    print(f\"Percentage empty: {(empty_count/total_notknown*100):.1f}%\")\n"
   ]
  },
  {
   "cell_type": "markdown",
   "metadata": {},
   "source": [
    "From the above analysis, we can see that when the ChatStatus is NOTKNOWN, No chats had been done.\n",
    "* Which clearly means for chatstatus = NOTKNOWN, \"no chat had been done\". or the data is not available for that chat.\n"
   ]
  },
  {
   "cell_type": "code",
   "execution_count": 21,
   "metadata": {},
   "outputs": [],
   "source": [
    "# Ensure chatStartTime and chatEndTime are in datetime format\n",
    "data['chatStartTime'] = pd.to_datetime(data['chatStartTime'], errors='coerce')\n",
    "data['chatEndTime'] = pd.to_datetime(data['chatEndTime'], errors='coerce')\n",
    "\n",
    "# Calculate chatSeconds where it is NaN by subtracting start and end times\n",
    "data.loc[data['chatSeconds'].isna(), 'chatSeconds'] = (data['chatEndTime'] - data['chatStartTime']).dt.total_seconds()"
   ]
  },
  {
   "cell_type": "code",
   "execution_count": 22,
   "metadata": {},
   "outputs": [
    {
     "data": {
      "text/plain": [
       "np.int64(8513)"
      ]
     },
     "execution_count": 22,
     "metadata": {},
     "output_type": "execute_result"
    }
   ],
   "source": [
    "data.chatSeconds.isna().sum()"
   ]
  },
  {
   "cell_type": "markdown",
   "metadata": {},
   "source": [
    "#### From above 2 cells It is clear that for ChatSeconds = NaN there is no record for chatend and chatstart hence we can't clearly calculate the chatduration \n",
    "\n",
    "- We Assuming the `chatSeconds` for NaN = ZERO"
   ]
  },
  {
   "cell_type": "code",
   "execution_count": 23,
   "metadata": {},
   "outputs": [],
   "source": [
    "\n",
    "data['chatSeconds'] = data['chatSeconds'].fillna(0)\n"
   ]
  },
  {
   "cell_type": "code",
   "execution_count": 24,
   "metadata": {},
   "outputs": [
    {
     "data": {
      "text/plain": [
       "np.int64(0)"
      ]
     },
     "execution_count": 24,
     "metadata": {},
     "output_type": "execute_result"
    }
   ],
   "source": [
    "data.chatSeconds.isna().sum()"
   ]
  },
  {
   "cell_type": "markdown",
   "metadata": {},
   "source": [
    "### Handling `timeduration`"
   ]
  },
  {
   "cell_type": "code",
   "execution_count": 25,
   "metadata": {},
   "outputs": [
    {
     "data": {
      "text/plain": [
       "np.int64(6629)"
      ]
     },
     "execution_count": 25,
     "metadata": {},
     "output_type": "execute_result"
    }
   ],
   "source": [
    "data.timeDuration.isna().sum()\n",
    "\n"
   ]
  },
  {
   "cell_type": "code",
   "execution_count": 26,
   "metadata": {},
   "outputs": [],
   "source": [
    "# Calculate timeDuration where it is NaN by subtracting chatStartTime and chatEndTime\n",
    "# Convert to hours by dividing total seconds by 3600\n",
    "data.loc[data['timeDuration'].isna(), 'timeDuration'] = (data['chatEndTime'] - data['chatStartTime']).dt.total_seconds() / 3600\n"
   ]
  },
  {
   "cell_type": "code",
   "execution_count": 27,
   "metadata": {},
   "outputs": [
    {
     "data": {
      "text/plain": [
       "np.int64(6629)"
      ]
     },
     "execution_count": 27,
     "metadata": {},
     "output_type": "execute_result"
    }
   ],
   "source": [
    "data.timeDuration.isna().sum()"
   ]
  },
  {
   "cell_type": "code",
   "execution_count": 28,
   "metadata": {},
   "outputs": [
    {
     "name": "stdout",
     "output_type": "stream",
     "text": [
      "Total missing timeDuration values: 6629\n",
      "   chatStartTime chatEndTime  chatSeconds  timeDuration\n",
      "4            NaT         NaT        300.0           NaN\n",
      "18           NaT         NaT        300.0           NaN\n",
      "20           NaT         NaT        300.0           NaN\n",
      "31           NaT         NaT        300.0           NaN\n",
      "35           NaT         NaT        300.0           NaN\n",
      "\n",
      "Chat status distribution for missing timeDuration:\n",
      "chatStatus\n",
      "failed      6433\n",
      "NOTKNOWN     146\n",
      "pending       48\n",
      "started        2\n",
      "Name: count, dtype: int64\n"
     ]
    }
   ],
   "source": [
    "\n",
    "print(\"Total missing timeDuration values:\", data.timeDuration.isna().sum())\n",
    "\n",
    "print(data[data.timeDuration.isna()][['chatStartTime', 'chatEndTime', 'chatSeconds', 'timeDuration']].head())\n",
    "\n",
    "\n",
    "\n",
    "print(\"\\nChat status distribution for missing timeDuration:\")\n",
    "print(data[data.timeDuration.isna()].chatStatus.value_counts())\n"
   ]
  },
  {
   "cell_type": "markdown",
   "metadata": {},
   "source": [
    "From the above analysis we can see that we have chatSeconds = 300 for some time Duartion NaN \n",
    "\n",
    "Which have following possibilties:\n",
    "\n",
    "* Each user had assigned 300 seconds of chatting duration.\n",
    "* The chat got Failed before starting\n",
    "   - Since we have 6433 Trasactions which got failed hence it is prooving the above assumptions\n"
   ]
  },
  {
   "cell_type": "code",
   "execution_count": 29,
   "metadata": {},
   "outputs": [],
   "source": [
    "data['timeDuration'] = data['timeDuration'].fillna(0)"
   ]
  },
  {
   "cell_type": "code",
   "execution_count": 30,
   "metadata": {},
   "outputs": [
    {
     "data": {
      "text/plain": [
       "np.int64(0)"
      ]
     },
     "execution_count": 30,
     "metadata": {},
     "output_type": "execute_result"
    }
   ],
   "source": [
    "data.timeDuration.isna().sum()"
   ]
  },
  {
   "cell_type": "markdown",
   "metadata": {},
   "source": [
    "### Handling `statementEntryId`"
   ]
  },
  {
   "cell_type": "code",
   "execution_count": 31,
   "metadata": {},
   "outputs": [
    {
     "data": {
      "text/plain": [
       "array(['656922f3919324acb6e8713b', '65692413919324acb6e87443',\n",
       "       '65692612919324acb6e8773a', ..., '6595f23d849de2bb564ee1cc',\n",
       "       '6595f385883c1bbae79c58e5', '6595f407883c1bbae79c6e13'],\n",
       "      shape=(27877,), dtype=object)"
      ]
     },
     "execution_count": 31,
     "metadata": {},
     "output_type": "execute_result"
    }
   ],
   "source": [
    "data.statementEntryId.unique()"
   ]
  },
  {
   "cell_type": "code",
   "execution_count": 32,
   "metadata": {},
   "outputs": [
    {
     "data": {
      "text/plain": [
       "np.int64(151)"
      ]
     },
     "execution_count": 32,
     "metadata": {},
     "output_type": "execute_result"
    }
   ],
   "source": [
    "data.statementEntryId.isna().sum()\n",
    "\n",
    "\n",
    "\n",
    "\n"
   ]
  },
  {
   "cell_type": "code",
   "execution_count": 33,
   "metadata": {},
   "outputs": [
    {
     "name": "stdout",
     "output_type": "stream",
     "text": [
      "\n",
      "Chat status distribution for missing statementEntryId:\n",
      "chatStatus\n",
      "NOTKNOWN    151\n",
      "Name: count, dtype: int64\n"
     ]
    }
   ],
   "source": [
    "\n",
    "print(\"\\nChat status distribution for missing statementEntryId:\")\n",
    "print(data[data.statementEntryId.isna()].chatStatus.value_counts())\n",
    "\n"
   ]
  },
  {
   "cell_type": "markdown",
   "metadata": {},
   "source": [
    "From the above oberservations we can see that `statementEntryId` is Missing for `ChatStatus` = NOTKNOWN which is probably due to data not present"
   ]
  },
  {
   "cell_type": "code",
   "execution_count": 34,
   "metadata": {},
   "outputs": [],
   "source": [
    "data['statementEntryId'] = data['statementEntryId'].fillna(0)\n"
   ]
  },
  {
   "cell_type": "markdown",
   "metadata": {},
   "source": [
    "\n",
    "callChannel                   19519\n",
    "callIvrType                   19665\n",
    "callStatus                    19486\n",
    "CallSid                       19662\n",
    "amount                        19011\n",
    "astrologerCallStatus          11769\n",
    "astrologerOnCallDuration      19662\n",
    "astrologersEarnings           19011\n",
    "netAmount                     19011\n",
    "region                        19008\n",
    "userCallStatus                18682\n",
    "userOnCallDuration            19662\n",
    "RecordingUrl                  23702\n",
    "feedback                      25411\n",
    "hideHistory                    8689\n",
    "cardPosition                  27317\n",
    "Remedies                      27925\n",
    "offer                          9249\n",
    "refunds[0]                    28022\n",
    "source                        11736\n",
    "callSeconds                   28025\n",
    "complementaryCallOrganiser    28025\n",
    "disconnectedBy                28018\n",
    "dtype: int64"
   ]
  },
  {
   "cell_type": "markdown",
   "metadata": {},
   "source": [
    "#### Handling `chatStartTime` and `chatEndTime`"
   ]
  },
  {
   "cell_type": "code",
   "execution_count": 35,
   "metadata": {},
   "outputs": [
    {
     "name": "stdout",
     "output_type": "stream",
     "text": [
      "\n",
      "Missing values:\n",
      "chatStartTime missing: 18697\n",
      "chatEndTime missing: 14996\n",
      "\n",
      "Basic statistics:\n",
      "\n",
      "chatStartTime:\n",
      "count                                   9330\n",
      "mean     2023-12-16 23:19:30.848512768+00:00\n",
      "min         2023-12-01 00:07:33.248000+00:00\n",
      "25%      2023-12-05 10:16:52.251000064+00:00\n",
      "50%      2023-12-18 16:21:31.289999872+00:00\n",
      "75%      2023-12-26 10:05:14.892499968+00:00\n",
      "max         2024-01-03 23:57:11.947000+00:00\n",
      "Name: chatStartTime, dtype: object\n",
      "\n",
      "chatEndTime:\n",
      "count                                  13031\n",
      "mean     2023-12-17 08:32:47.860740096+00:00\n",
      "min         2023-12-01 00:07:33.773000+00:00\n",
      "25%         2023-12-11 10:33:02.192000+00:00\n",
      "50%         2023-12-18 07:15:19.404000+00:00\n",
      "75%      2023-12-23 18:06:51.981000192+00:00\n",
      "max         2024-01-03 23:57:12.445000+00:00\n",
      "Name: chatEndTime, dtype: object\n",
      "\n",
      "Number of chats where end time is before start time: 67\n",
      "\n",
      "Chat duration statistics (in seconds):\n",
      "count                         9233\n",
      "mean     0 days 00:02:55.974643344\n",
      "std      0 days 00:02:53.553992767\n",
      "min         0 days 00:00:00.162000\n",
      "25%         0 days 00:00:00.488000\n",
      "50%         0 days 00:03:14.339000\n",
      "75%         0 days 00:05:04.280000\n",
      "max         0 days 00:53:04.557000\n",
      "dtype: object\n"
     ]
    }
   ],
   "source": [
    "# Let's analyze chatStartTime and chatEndTime\n",
    "print(\"\\nMissing values:\")\n",
    "print(\"chatStartTime missing:\", data['chatStartTime'].isna().sum())\n",
    "print(\"chatEndTime missing:\", data['chatEndTime'].isna().sum())\n",
    "\n",
    "# Basic statistics\n",
    "print(\"\\nBasic statistics:\")\n",
    "print(\"\\nchatStartTime:\")\n",
    "print(data['chatStartTime'].describe())\n",
    "print(\"\\nchatEndTime:\") \n",
    "print(data['chatEndTime'].describe())\n",
    "\n",
    "# Check for invalid timestamps (e.g. where end time is before start time)\n",
    "valid_times = data[['chatStartTime', 'chatEndTime']].notna().all(axis=1)\n",
    "invalid_sequence = data[valid_times & (data['chatStartTime'] > data['chatEndTime'])]\n",
    "print(\"\\nNumber of chats where end time is before start time:\", len(invalid_sequence))\n",
    "\n",
    "# Distribution of chat durations for valid timestamps\n",
    "valid_duration = data[valid_times & (data['chatEndTime'] >= data['chatStartTime'])]\n",
    "duration = valid_duration['chatEndTime'] - valid_duration['chatStartTime']\n",
    "print(\"\\nChat duration statistics (in seconds):\")\n",
    "print(duration.describe())\n"
   ]
  },
  {
   "cell_type": "code",
   "execution_count": 36,
   "metadata": {},
   "outputs": [
    {
     "name": "stdout",
     "output_type": "stream",
     "text": [
      "\n",
      "Percentage of missing values:\n",
      "chatStartTime: 66.71%\n",
      "chatEndTime: 53.51%\n",
      "\n",
      "Missing value patterns:\n",
      "Records with both timestamps missing: 14966\n",
      "Records with only start time missing: 3731\n",
      "Records with only end time missing: 30\n",
      "\n",
      "Missing timestamps by chat status:\n",
      "chatStatus\n",
      "NOTKNOWN      8512\n",
      "failed        7086\n",
      "incomplete    3079\n",
      "pending         48\n",
      "started          2\n",
      "dtype: int64\n",
      "\n",
      "Percentage of missing timestamps within each chat status:\n",
      "chatStatus\n",
      "NOTKNOWN      100.000000\n",
      "completed            NaN\n",
      "failed         97.657111\n",
      "incomplete     46.363499\n",
      "pending       100.000000\n",
      "started         5.714286\n",
      "dtype: float64\n"
     ]
    }
   ],
   "source": [
    "# Analyze patterns in missing data for chatStartTime and chatEndTime\n",
    "\n",
    "# Calculate percentage of missing values\n",
    "total_records = len(data)\n",
    "pct_missing_start = (data['chatStartTime'].isna().sum() / total_records) * 100\n",
    "pct_missing_end = (data['chatEndTime'].isna().sum() / total_records) * 100\n",
    "\n",
    "print(\"\\nPercentage of missing values:\")\n",
    "print(f\"chatStartTime: {pct_missing_start:.2f}%\")\n",
    "print(f\"chatEndTime: {pct_missing_end:.2f}%\")\n",
    "\n",
    "# Analyze if missing values occur together\n",
    "both_missing = data[data['chatStartTime'].isna() & data['chatEndTime'].isna()]\n",
    "only_start_missing = data[data['chatStartTime'].isna() & ~data['chatEndTime'].isna()]\n",
    "only_end_missing = data[~data['chatStartTime'].isna() & data['chatEndTime'].isna()]\n",
    "\n",
    "print(\"\\nMissing value patterns:\")\n",
    "print(f\"Records with both timestamps missing: {len(both_missing)}\")\n",
    "print(f\"Records with only start time missing: {len(only_start_missing)}\")\n",
    "print(f\"Records with only end time missing: {len(only_end_missing)}\")\n",
    "\n",
    "# Analyze relationship with chat status\n",
    "print(\"\\nMissing timestamps by chat status:\")\n",
    "missing_by_status = data[data['chatStartTime'].isna() | data['chatEndTime'].isna()].groupby('chatStatus').size()\n",
    "print(missing_by_status)\n",
    "\n",
    "# Calculate percentage of missing values within each chat status\n",
    "print(\"\\nPercentage of missing timestamps within each chat status:\")\n",
    "missing_pct_by_status = (data[data['chatStartTime'].isna() | data['chatEndTime'].isna()].groupby('chatStatus').size() / \n",
    "                        data.groupby('chatStatus').size() * 100)\n",
    "print(missing_pct_by_status)\n"
   ]
  },
  {
   "cell_type": "markdown",
   "metadata": {},
   "source": [
    "* For `ChatStatus` = NOTKNOWN and Failed we have considered it as ZERO for both `chatstartTime` and `ChatendTime`"
   ]
  },
  {
   "cell_type": "code",
   "execution_count": 37,
   "metadata": {},
   "outputs": [
    {
     "name": "stderr",
     "output_type": "stream",
     "text": [
      "C:\\Users\\abhas\\AppData\\Local\\Temp\\ipykernel_5712\\3114539099.py:2: FutureWarning: Setting an item of incompatible dtype is deprecated and will raise an error in a future version of pandas. Value '0' has dtype incompatible with datetime64[ns, UTC], please explicitly cast to a compatible dtype first.\n",
      "  data.loc[data['chatStatus'].isin(['NOTKNOWN', 'failed']), ['chatStartTime', 'chatEndTime']] = 0\n",
      "C:\\Users\\abhas\\AppData\\Local\\Temp\\ipykernel_5712\\3114539099.py:2: FutureWarning: Setting an item of incompatible dtype is deprecated and will raise an error in a future version of pandas. Value '0' has dtype incompatible with datetime64[ns, UTC], please explicitly cast to a compatible dtype first.\n",
      "  data.loc[data['chatStatus'].isin(['NOTKNOWN', 'failed']), ['chatStartTime', 'chatEndTime']] = 0\n"
     ]
    }
   ],
   "source": [
    "# Set chatStartTime and chatEndTime to 0 for chats with status 'NOTKNOWN' or 'failed'\n",
    "data.loc[data['chatStatus'].isin(['NOTKNOWN', 'failed']), ['chatStartTime', 'chatEndTime']] = 0\n"
   ]
  },
  {
   "cell_type": "code",
   "execution_count": 38,
   "metadata": {},
   "outputs": [
    {
     "name": "stdout",
     "output_type": "stream",
     "text": [
      "chatStartTime missing: 3127\n",
      "chatEndTime missing: 50\n"
     ]
    }
   ],
   "source": [
    "print(\"chatStartTime missing:\", data['chatStartTime'].isna().sum())\n",
    "print(\"chatEndTime missing:\", data['chatEndTime'].isna().sum())"
   ]
  },
  {
   "cell_type": "markdown",
   "metadata": {},
   "source": [
    "For Chatstatus = Incomplete we are calcuating the time"
   ]
  },
  {
   "cell_type": "code",
   "execution_count": 55,
   "metadata": {},
   "outputs": [
    {
     "data": {
      "text/plain": [
       "np.int64(19662)"
      ]
     },
     "execution_count": 55,
     "metadata": {},
     "output_type": "execute_result"
    }
   ],
   "source": [
    "data.userOnCallDuration.isna().sum()\n"
   ]
  },
  {
   "cell_type": "code",
   "execution_count": null,
   "metadata": {},
   "outputs": [],
   "source": []
  },
  {
   "cell_type": "code",
   "execution_count": 56,
   "metadata": {},
   "outputs": [
    {
     "name": "stdout",
     "output_type": "stream",
     "text": [
      "\n",
      "Missing userOnCallDuration by chat status:\n",
      "chatStatus\n",
      "NOTKNOWN       148\n",
      "completed     5535\n",
      "failed        7255\n",
      "incomplete    6641\n",
      "pending         48\n",
      "started         35\n",
      "dtype: int64\n",
      "\n",
      "Percentage of missing userOnCallDuration within each chat status:\n",
      "chatStatus\n",
      "NOTKNOWN        1.738722\n",
      "completed     100.000000\n",
      "failed         99.986218\n",
      "incomplete    100.000000\n",
      "pending       100.000000\n",
      "started       100.000000\n",
      "dtype: float64\n",
      "\n",
      "Total missing userOnCallDuration values: 19662\n",
      "Percentage of missing userOnCallDuration: 70.15 %\n"
     ]
    },
    {
     "data": {
      "image/png": "[encoded data removed]",
      "text/plain": [
       "<Figure size 1200x600 with 1 Axes>"
      ]
     },
     "metadata": {},
     "output_type": "display_data"
    }
   ],
   "source": [
    "# Analyze missing values in userOnCallDuration\n",
    "print(\"\\nMissing userOnCallDuration by chat status:\")\n",
    "missing_call_duration = data[data['userOnCallDuration'].isna()].groupby('chatStatus').size()\n",
    "print(missing_call_duration)\n",
    "\n",
    "# Calculate percentage of missing values within each chat status\n",
    "print(\"\\nPercentage of missing userOnCallDuration within each chat status:\")\n",
    "missing_call_duration_pct = (data[data['userOnCallDuration'].isna()].groupby('chatStatus').size() / \n",
    "                           data.groupby('chatStatus').size() * 100)\n",
    "print(missing_call_duration_pct)\n",
    "\n",
    "# Basic statistics about missing vs non-missing values\n",
    "print(\"\\nTotal missing userOnCallDuration values:\", data['userOnCallDuration'].isna().sum())\n",
    "print(\"Percentage of missing userOnCallDuration:\", \n",
    "      (data['userOnCallDuration'].isna().sum() / len(data) * 100).round(2), \"%\")\n",
    "\n",
    "# Create a box plot to visualize userOnCallDuration distribution by chat status\n",
    "plt.figure(figsize=(12, 6))\n",
    "sns.boxplot(x='chatStatus', y='userOnCallDuration', data=data)\n",
    "plt.xticks(rotation=45)\n",
    "plt.title('Distribution of userOnCallDuration by Chat Status')\n",
    "plt.show()\n"
   ]
  },
  {
   "cell_type": "code",
   "execution_count": 54,
   "metadata": {},
   "outputs": [
    {
     "name": "stdout",
     "output_type": "stream",
     "text": [
      "Analysis of userOnCallDuration by chat status:\n",
      "\n",
      "Summary statistics by chat status:\n",
      "            count        mean         std    min     max\n",
      "chatStatus                                              \n",
      "NOTKNOWN     8364  118.777499  244.549931    0.0  4020.0\n",
      "completed       0         NaN         NaN    NaN     NaN\n",
      "failed          1  180.000000         NaN  180.0   180.0\n",
      "incomplete      0         NaN         NaN    NaN     NaN\n",
      "pending         0         NaN         NaN    NaN     NaN\n",
      "started         0         NaN         NaN    NaN     NaN\n",
      "\n",
      "Percentage of missing values by chat status:\n",
      "chatStatus\n",
      "NOTKNOWN        1.738722\n",
      "completed     100.000000\n",
      "failed         99.986218\n",
      "incomplete    100.000000\n",
      "pending       100.000000\n",
      "started       100.000000\n",
      "Name: userOnCallDuration, dtype: float64\n"
     ]
    },
    {
     "data": {
      "text/plain": [
       "<Figure size 1200x600 with 0 Axes>"
      ]
     },
     "metadata": {},
     "output_type": "display_data"
    },
    {
     "data": {
      "image/png": "[encoded data removed]",
      "text/plain": [
       "<Figure size 1200x600 with 1 Axes>"
      ]
     },
     "metadata": {},
     "output_type": "display_data"
    }
   ],
   "source": [
    "data.userOnCallDuration.isna().sum()"
   ]
  },
  {
   "cell_type": "code",
   "execution_count": null,
   "metadata": {},
   "outputs": [],
   "source": []
  },
  {
   "cell_type": "code",
   "execution_count": null,
   "metadata": {},
   "outputs": [],
   "source": []
  },
  {
   "cell_type": "markdown",
   "metadata": {},
   "source": [
    "## Identifying Key Numeric Coloumns"
   ]
  },
  {
   "cell_type": "code",
   "execution_count": 39,
   "metadata": {},
   "outputs": [],
   "source": [
    "key_numeric_columns = [\n",
    "    'chatSeconds',      \n",
    "    'timeDuration',    \n",
    "    'amount',          \n",
    "    'astrologerOnCallDuration',  \n",
    "    'astrologersEarnings',       \n",
    "    'netAmount',                \n",
    "    'userOnCallDuration'        \n",
    "]\n"
   ]
  },
  {
   "cell_type": "code",
   "execution_count": 40,
   "metadata": {},
   "outputs": [],
   "source": [
    "summary_stats = data[key_numeric_columns].describe()"
   ]
  },
  {
   "cell_type": "code",
   "execution_count": 41,
   "metadata": {},
   "outputs": [
    {
     "data": {
      "text/plain": [
       "count    9016.000000\n",
       "mean       10.996736\n",
       "std        42.141543\n",
       "min         0.000000\n",
       "25%         0.000000\n",
       "50%         0.000000\n",
       "75%         0.000000\n",
       "max       900.000000\n",
       "Name: astrologersEarnings, dtype: float64"
      ]
     },
     "execution_count": 41,
     "metadata": {},
     "output_type": "execute_result"
    }
   ],
   "source": [
    "data.astrologersEarnings.describe()"
   ]
  },
  {
   "cell_type": "code",
   "execution_count": 44,
   "metadata": {},
   "outputs": [
    {
     "name": "stdout",
     "output_type": "stream",
     "text": [
      "\n",
      "Summary Statistics for Key Metrics:\n",
      "--------------------------------------------------------------------------------\n",
      "       chatSeconds  timeDuration       amount  astrologerOnCallDuration  \\\n",
      "count  28027.00000  28027.000000  9016.000000               8365.000000   \n",
      "mean     243.10415      1.509525    23.742890                128.791871   \n",
      "std      311.28032      3.037316    87.134998                245.204088   \n",
      "min        0.00000     -0.166667     0.000000                  0.000000   \n",
      "25%        0.00000      0.000000     0.000000                  0.000000   \n",
      "50%      300.00000      0.000000     0.000000                 34.000000   \n",
      "75%      300.00000      3.000000     0.000000                189.000000   \n",
      "max     7980.00000     67.000000  1800.000000               4029.000000   \n",
      "\n",
      "       astrologersEarnings    netAmount  userOnCallDuration  \n",
      "count          9016.000000  9016.000000         8365.000000  \n",
      "mean             10.996736    23.734174          118.784818  \n",
      "std              42.141543    87.134775          244.536228  \n",
      "min               0.000000     0.000000            0.000000  \n",
      "25%               0.000000     0.000000            0.000000  \n",
      "50%               0.000000     0.000000            8.000000  \n",
      "75%               0.000000     0.000000          180.000000  \n",
      "max             900.000000  1800.000000         4020.000000  \n"
     ]
    }
   ],
   "source": [
    "print(\"\\nSummary Statistics for Key Metrics:\")\n",
    "print(summary_stats)"
   ]
  },
  {
   "cell_type": "code",
   "execution_count": 50,
   "metadata": {},
   "outputs": [
    {
     "data": {
      "image/png": "[encoded data removed]",
      "text/plain": [
       "<Figure size 1200x600 with 1 Axes>"
      ]
     },
     "metadata": {},
     "output_type": "display_data"
    }
   ],
   "source": [
    "import matplotlib.pyplot as plt\n",
    "\n",
    "# Create a simple bar plot for mean values\n",
    "plt.figure(figsize=(12, 6))\n",
    "\n",
    "# Calculate means for each numeric column\n",
    "means = data[key_numeric_columns].mean()\n",
    "\n",
    "# Create bar plot\n",
    "plt.bar(range(len(means)), means, color='skyblue')\n",
    "\n",
    "# Customize the plot\n",
    "plt.title('Average Values of Key Metrics', fontsize=12)\n",
    "plt.xlabel('Metrics')\n",
    "plt.ylabel('Mean Value')\n",
    "\n",
    "# Rotate x-axis labels for better readability\n",
    "plt.xticks(range(len(means)), key_numeric_columns, rotation=45, ha='right')\n",
    "\n",
    "# Add value labels on top of each bar\n",
    "for i, v in enumerate(means):\n",
    "    plt.text(i, v, f'{v:.2f}', ha='center', va='bottom')\n",
    "\n",
    "# Add grid for better readability\n",
    "plt.grid(True, linestyle='--', alpha=0.3)\n",
    "\n",
    "# Adjust layout to prevent label cutoff\n",
    "plt.tight_layout()\n",
    "\n",
    "# Show the plot\n",
    "plt.show()\n",
    "\n",
    "\n",
    "\n"
   ]
  },
  {
   "cell_type": "markdown",
   "metadata": {},
   "source": [
    "## Top Performing Astrologers Analysis\n",
    "\n"
   ]
  },
  {
   "cell_type": "code",
   "execution_count": 59,
   "metadata": {},
   "outputs": [],
   "source": [
    "\n",
    "guru_performance = data.groupby(['guru', 'guruName']).agg({\n",
    "    'chatSeconds': ['count', 'mean'],  \n",
    "    'astrologersEarnings': 'sum',     \n",
    "    'amount': 'mean',                  \n",
    "    'chatStatus': lambda x: (x == 'completed').mean() * 100   # Considering only the completed chats\n",
    "}).round(2)\n",
    "\n"
   ]
  },
  {
   "cell_type": "code",
   "execution_count": 60,
   "metadata": {},
   "outputs": [],
   "source": [
    "\n",
    "guru_performance.columns = [\n",
    "    'Total_Consultations', \n",
    "    'Avg_Duration_Seconds',\n",
    "    'Total_Earnings',\n",
    "    'Avg_Amount',\n",
    "    'Completion_Rate_%'\n",
    "]\n",
    "\n",
    "guru_performance = guru_performance.reset_index()\n",
    "\n",
    "\n",
    "\n"
   ]
  },
  {
   "cell_type": "code",
   "execution_count": 61,
   "metadata": {},
   "outputs": [],
   "source": [
    "top_performers = guru_performance.sort_values('Total_Earnings', ascending=False).head(10)\n"
   ]
  },
  {
   "cell_type": "code",
   "execution_count": 62,
   "metadata": {},
   "outputs": [
    {
     "data": {
      "text/html": [
       "<div>\n",
       "<style scoped>\n",
       "    .dataframe tbody tr th:only-of-type {\n",
       "        vertical-align: middle;\n",
       "    }\n",
       "\n",
       "    .dataframe tbody tr th {\n",
       "        vertical-align: top;\n",
       "    }\n",
       "\n",
       "    .dataframe thead th {\n",
       "        text-align: right;\n",
       "    }\n",
       "</style>\n",
       "<table border=\"1\" class=\"dataframe\">\n",
       "  <thead>\n",
       "    <tr style=\"text-align: right;\">\n",
       "      <th></th>\n",
       "      <th>guru</th>\n",
       "      <th>guruName</th>\n",
       "      <th>Total_Consultations</th>\n",
       "      <th>Avg_Duration_Seconds</th>\n",
       "      <th>Total_Earnings</th>\n",
       "      <th>Avg_Amount</th>\n",
       "      <th>Completion_Rate_%</th>\n",
       "    </tr>\n",
       "  </thead>\n",
       "  <tbody>\n",
       "    <tr>\n",
       "      <th>9</th>\n",
       "      <td>65054782f5f203225bfcdc70</td>\n",
       "      <td>Dr Balkrisna</td>\n",
       "      <td>687</td>\n",
       "      <td>165.76</td>\n",
       "      <td>15910.21</td>\n",
       "      <td>115.55</td>\n",
       "      <td>11.35</td>\n",
       "    </tr>\n",
       "    <tr>\n",
       "      <th>23</th>\n",
       "      <td>65054784f5f203225bfcdcd4</td>\n",
       "      <td>Astro  Ruchi</td>\n",
       "      <td>777</td>\n",
       "      <td>211.35</td>\n",
       "      <td>10274.66</td>\n",
       "      <td>41.22</td>\n",
       "      <td>42.99</td>\n",
       "    </tr>\n",
       "    <tr>\n",
       "      <th>93</th>\n",
       "      <td>65489f0807bc1e26099117f8</td>\n",
       "      <td>Astro Shalini</td>\n",
       "      <td>1321</td>\n",
       "      <td>76.53</td>\n",
       "      <td>6807.61</td>\n",
       "      <td>26.44</td>\n",
       "      <td>6.43</td>\n",
       "    </tr>\n",
       "    <tr>\n",
       "      <th>94</th>\n",
       "      <td>6548ab2907bc1e26099a8c1d</td>\n",
       "      <td>Astro Divya</td>\n",
       "      <td>1056</td>\n",
       "      <td>258.58</td>\n",
       "      <td>3696.99</td>\n",
       "      <td>20.11</td>\n",
       "      <td>28.79</td>\n",
       "    </tr>\n",
       "    <tr>\n",
       "      <th>102</th>\n",
       "      <td>655f2b83f9e3a0877f961727</td>\n",
       "      <td>Astro Sonam S</td>\n",
       "      <td>752</td>\n",
       "      <td>253.72</td>\n",
       "      <td>2907.49</td>\n",
       "      <td>19.61</td>\n",
       "      <td>34.97</td>\n",
       "    </tr>\n",
       "    <tr>\n",
       "      <th>0</th>\n",
       "      <td>65053ccd03c045565cf76ff0</td>\n",
       "      <td>Usha Siingh</td>\n",
       "      <td>200</td>\n",
       "      <td>156.00</td>\n",
       "      <td>2870.27</td>\n",
       "      <td>164.02</td>\n",
       "      <td>3.50</td>\n",
       "    </tr>\n",
       "    <tr>\n",
       "      <th>122</th>\n",
       "      <td>656a76a964aaf999f4d17b6e</td>\n",
       "      <td>Astro Seema</td>\n",
       "      <td>605</td>\n",
       "      <td>253.09</td>\n",
       "      <td>2690.82</td>\n",
       "      <td>23.00</td>\n",
       "      <td>25.95</td>\n",
       "    </tr>\n",
       "    <tr>\n",
       "      <th>128</th>\n",
       "      <td>656e09e32d32774bedc8a14d</td>\n",
       "      <td>Tarot  Ari</td>\n",
       "      <td>336</td>\n",
       "      <td>214.82</td>\n",
       "      <td>2222.56</td>\n",
       "      <td>27.29</td>\n",
       "      <td>29.76</td>\n",
       "    </tr>\n",
       "    <tr>\n",
       "      <th>98</th>\n",
       "      <td>654957a81a642edaf98c6c9c</td>\n",
       "      <td>Tarot Rupika</td>\n",
       "      <td>567</td>\n",
       "      <td>214.92</td>\n",
       "      <td>2198.75</td>\n",
       "      <td>28.04</td>\n",
       "      <td>12.17</td>\n",
       "    </tr>\n",
       "    <tr>\n",
       "      <th>31</th>\n",
       "      <td>65054785f5f203225bfcdcf8</td>\n",
       "      <td>Tarot Bee Riya</td>\n",
       "      <td>743</td>\n",
       "      <td>226.19</td>\n",
       "      <td>2178.71</td>\n",
       "      <td>60.56</td>\n",
       "      <td>2.42</td>\n",
       "    </tr>\n",
       "  </tbody>\n",
       "</table>\n",
       "</div>"
      ],
      "text/plain": [
       "                         guru        guruName  Total_Consultations  \\\n",
       "9    65054782f5f203225bfcdc70    Dr Balkrisna                  687   \n",
       "23   65054784f5f203225bfcdcd4    Astro  Ruchi                  777   \n",
       "93   65489f0807bc1e26099117f8   Astro Shalini                 1321   \n",
       "94   6548ab2907bc1e26099a8c1d     Astro Divya                 1056   \n",
       "102  655f2b83f9e3a0877f961727   Astro Sonam S                  752   \n",
       "0    65053ccd03c045565cf76ff0     Usha Siingh                  200   \n",
       "122  656a76a964aaf999f4d17b6e     Astro Seema                  605   \n",
       "128  656e09e32d32774bedc8a14d     Tarot  Ari                   336   \n",
       "98   654957a81a642edaf98c6c9c    Tarot Rupika                  567   \n",
       "31   65054785f5f203225bfcdcf8  Tarot Bee Riya                  743   \n",
       "\n",
       "     Avg_Duration_Seconds  Total_Earnings  Avg_Amount  Completion_Rate_%  \n",
       "9                  165.76        15910.21      115.55              11.35  \n",
       "23                 211.35        10274.66       41.22              42.99  \n",
       "93                  76.53         6807.61       26.44               6.43  \n",
       "94                 258.58         3696.99       20.11              28.79  \n",
       "102                253.72         2907.49       19.61              34.97  \n",
       "0                  156.00         2870.27      164.02               3.50  \n",
       "122                253.09         2690.82       23.00              25.95  \n",
       "128                214.82         2222.56       27.29              29.76  \n",
       "98                 214.92         2198.75       28.04              12.17  \n",
       "31                 226.19         2178.71       60.56               2.42  "
      ]
     },
     "execution_count": 62,
     "metadata": {},
     "output_type": "execute_result"
    }
   ],
   "source": [
    "top_performers.head(10)"
   ]
  },
  {
   "cell_type": "code",
   "execution_count": 65,
   "metadata": {},
   "outputs": [
    {
     "data": {
      "image/png": "[encoded data removed]",
      "text/plain": [
       "<Figure size 1200x600 with 1 Axes>"
      ]
     },
     "metadata": {},
     "output_type": "display_data"
    }
   ],
   "source": [
    "plt.figure(figsize=(12, 6))\n",
    "plt.bar(range(len(top_performers)), top_performers['Total_Earnings'], color='skyblue')\n",
    "plt.title('Top 10 Astrologers by Total Earnings', fontsize=12)\n",
    "plt.xlabel('Astrologer Name')\n",
    "plt.ylabel('Total Earnings')\n",
    "\n",
    "plt.xticks(range(len(top_performers)), top_performers['guruName'], rotation=45, ha='right')\n",
    "\n",
    "\n",
    "for i, v in enumerate(top_performers['Total_Earnings']):\n",
    "    plt.text(i, v, f'{v:,.0f}', ha='center', va='bottom')\n",
    "\n",
    "plt.grid(True, linestyle='--', alpha=0.3)\n",
    "plt.tight_layout()\n",
    "plt.show()"
   ]
  },
  {
   "cell_type": "code",
   "execution_count": null,
   "metadata": {},
   "outputs": [],
   "source": []
  },
  {
   "cell_type": "markdown",
   "metadata": {},
   "source": [
    "# Task 2: Call Center Performance Metrics"
   ]
  },
  {
   "cell_type": "markdown",
   "metadata": {},
   "source": [
    "##### Since the activity coloumn is not present:\n",
    "\n",
    "Assumptions: My analysis instead uses `chatStatus` as a proxy for activity levels,"
   ]
  },
  {
   "cell_type": "code",
   "execution_count": 68,
   "metadata": {},
   "outputs": [],
   "source": [
    "chat_talk_time = data.groupby('chatStatus')['chatSeconds'].agg(['mean', 'count']).round(2)\n",
    "chat_talk_time = chat_talk_time.sort_values('mean', ascending=False)\n",
    "\n"
   ]
  },
  {
   "cell_type": "code",
   "execution_count": 69,
   "metadata": {},
   "outputs": [
    {
     "name": "stdout",
     "output_type": "stream",
     "text": [
      "\n",
      "Average Talk Time by Chat Status:\n",
      "================================\n",
      "              mean  count\n",
      "chatStatus               \n",
      "failed      353.67   7256\n",
      "incomplete  352.36   6641\n",
      "completed   339.84   5535\n",
      "pending     321.25     48\n",
      "started     310.29     35\n",
      "NOTKNOWN      0.00   8512\n"
     ]
    }
   ],
   "source": [
    "\n",
    "print(\"\\nAverage Talk Time by Chat Status:\")\n",
    "print(\"================================\")\n",
    "print(chat_talk_time)\n",
    "\n"
   ]
  },
  {
   "cell_type": "code",
   "execution_count": 70,
   "metadata": {},
   "outputs": [
    {
     "data": {
      "image/png": "[encoded data removed]",
      "text/plain": [
       "<Figure size 1200x600 with 1 Axes>"
      ]
     },
     "metadata": {},
     "output_type": "display_data"
    }
   ],
   "source": [
    "\n",
    "plt.figure(figsize=(12, 6))\n",
    "plt.bar(range(len(chat_talk_time)), chat_talk_time['mean'], color='lightgreen')\n",
    "plt.title('Average Talk Time by Chat Status', fontsize=12)\n",
    "plt.xlabel('Chat Status')\n",
    "plt.ylabel('Average Talk Time (seconds)')\n",
    "\n",
    "plt.xticks(range(len(chat_talk_time)), chat_talk_time.index, rotation=45, ha='right')\n",
    "\n",
    "\n",
    "for i, v in enumerate(chat_talk_time['mean']):\n",
    "    plt.text(i, v, f'{v:,.0f}s', ha='center', va='bottom')\n",
    "\n",
    "plt.grid(True, linestyle='--', alpha=0.3)\n",
    "plt.tight_layout()\n",
    "plt.show()\n"
   ]
  },
  {
   "cell_type": "code",
   "execution_count": 72,
   "metadata": {},
   "outputs": [
    {
     "data": {
      "text/plain": [
       "array([nan, 'Production', 'Test'], dtype=object)"
      ]
     },
     "execution_count": 72,
     "metadata": {},
     "output_type": "execute_result"
    }
   ],
   "source": [
    "data.source.unique()"
   ]
  },
  {
   "cell_type": "code",
   "execution_count": 80,
   "metadata": {},
   "outputs": [
    {
     "name": "stdout",
     "output_type": "stream",
     "text": [
      "\n",
      "Most Common Sources of Calls:\n",
      "============================\n"
     ]
    },
    {
     "data": {
      "text/plain": [
       "source\n",
       "Production    16256\n",
       "Test             35\n",
       "Name: count, dtype: int64"
      ]
     },
     "execution_count": 80,
     "metadata": {},
     "output_type": "execute_result"
    }
   ],
   "source": [
    "# Get value counts of source column and sort in descending order\n",
    "source_counts = data['source'].value_counts()\n",
    "print(\"\\nMost Common Sources of Calls:\")\n",
    "print(\"============================\")\n",
    "source_counts.head()\n",
    "\n",
    "\n"
   ]
  },
  {
   "cell_type": "markdown",
   "metadata": {},
   "source": [
    "Calculating the Earning and Spending of Users and Maters"
   ]
  },
  {
   "cell_type": "code",
   "execution_count": 84,
   "metadata": {},
   "outputs": [],
   "source": [
    "total_master_earnings = data['astrologersEarnings'].sum()\n",
    "\n",
    "total_user_spending = data['amount'].sum()\n",
    "\n",
    "\n"
   ]
  },
  {
   "cell_type": "code",
   "execution_count": 85,
   "metadata": {},
   "outputs": [
    {
     "name": "stdout",
     "output_type": "stream",
     "text": [
      "\n",
      "Financial Summary:\n",
      "=================\n",
      "Total Master Earnings: ₹99,146.57\n",
      "Total User Spending: ₹214,065.90\n"
     ]
    }
   ],
   "source": [
    "print(\"\\nFinancial Summary:\")\n",
    "print(\"=================\")\n",
    "print(f\"Total Master Earnings: ₹{total_master_earnings:,.2f}\")\n",
    "print(f\"Total User Spending: ₹{total_user_spending:,.2f}\")\n",
    "\n"
   ]
  },
  {
   "cell_type": "code",
   "execution_count": 87,
   "metadata": {},
   "outputs": [
    {
     "name": "stdout",
     "output_type": "stream",
     "text": [
      "\n",
      "Per Consultation Averages:\n",
      "Average User Spending: ₹7.64\n"
     ]
    }
   ],
   "source": [
    "# CALCULATING AVGs\n",
    "num_consultations = len(data)\n",
    "avg_master_earnings = total_master_earnings / num_consultations\n",
    "avg_user_spending = total_user_spending / num_consultations\n",
    "\n",
    "print(f\"\\nPer Consultation Averages:\")\n",
    "print(f\"Average Master Earnings: ₹{avg_master_earnings:.2f}\")\n",
    "print(f\"Average User Spending: ₹{avg_user_spending:.2f}\")   "
   ]
  },
  {
   "cell_type": "code",
   "execution_count": 95,
   "metadata": {},
   "outputs": [
    {
     "name": "stdout",
     "output_type": "stream",
     "text": [
      "\n",
      "Missing Values Analysis for Amount:\n",
      "=================================\n",
      "Total missing values in amount: 19011\n",
      "Percentage of missing values: 67.83%\n"
     ]
    }
   ],
   "source": [
    "# Analyze missing values in amount column\n",
    "print(\"\\nMissing Values Analysis for Amount:\")\n",
    "print(\"=================================\")\n",
    "print(f\"Total missing values in amount: {data['amount'].isna().sum()}\")\n",
    "print(f\"Percentage of missing values: {(data['amount'].isna().sum() / len(data) * 100):.2f}%\")\n",
    "\n"
   ]
  },
  {
   "cell_type": "markdown",
   "metadata": {},
   "source": [
    "#### Probable reasons for missing amounts:\n",
    "\n",
    "1. Failed or incomplete consultations where payment wasn't processed\n",
    "2. Free consultations or promotional offers  \n",
    "3. System errors in payment recording\n",
    "4. Cancelled transactions"
   ]
  },
  {
   "cell_type": "code",
   "execution_count": 98,
   "metadata": {},
   "outputs": [
    {
     "name": "stdout",
     "output_type": "stream",
     "text": [
      "chatStatus\n",
      "failed        7229\n",
      "incomplete    6641\n",
      "NOTKNOWN      5061\n",
      "pending         48\n",
      "started         32\n",
      "Name: count, dtype: int64\n"
     ]
    }
   ],
   "source": [
    "print(data[data['amount'].isna()]['chatStatus'].value_counts())\n"
   ]
  },
  {
   "cell_type": "code",
   "execution_count": 100,
   "metadata": {},
   "outputs": [
    {
     "ename": "SyntaxError",
     "evalue": "unterminated string literal (detected at line 6) (1512539357.py, line 6)",
     "output_type": "error",
     "traceback": [
      "\u001b[1;36m  Cell \u001b[1;32mIn[100], line 6\u001b[1;36m\u001b[0m\n\u001b[1;33m    totalHere's how we can analyze the relationship between talk time and charges:\u001b[0m\n\u001b[1;37m             ^\u001b[0m\n\u001b[1;31mSyntaxError\u001b[0m\u001b[1;31m:\u001b[0m unterminated string literal (detected at line 6)\n"
     ]
    }
   ],
   "source": [
    "# Check relationship between missing amounts and chat status\n",
    "print(\"\\nMissing Amount Distribution by Chat Status:\")\n",
    "print(data[data['amount'].isna()]['chatStatus'].value_counts())\n",
    "\n",
    "# Calculate percentage of missing amounts for each chat status\n",
    "totalHere's how we can analyze the relationship between talk time and charges:\n"
   ]
  },
  {
   "cell_type": "code",
   "execution_count": null,
   "metadata": {},
   "outputs": [],
   "source": []
  }
 ],
 "metadata": {
  "kernelspec": {
   "display_name": ".venv",
   "language": "python",
   "name": "python3"
  },
  "language_info": {
   "codemirror_mode": {
    "name": "ipython",
    "version": 3
   },
   "file_extension": ".py",
   "mimetype": "text/x-python",
   "name": "python",
   "nbconvert_exporter": "python",
   "pygments_lexer": "ipython3",
   "version": "3.13.0"
  }
 },
 "nbformat": 4,
 "nbformat_minor": 2
}
